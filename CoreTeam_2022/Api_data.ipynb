{
 "cells": [
  {
   "cell_type": "code",
   "execution_count": 1,
   "id": "6f6dcc59",
   "metadata": {},
   "outputs": [
    {
     "name": "stdout",
     "output_type": "stream",
     "text": [
      "Collecting arduino-iot-client\n",
      "  Downloading arduino_iot_client-1.4.1-py3-none-any.whl (277 kB)\n",
      "Requirement already satisfied: urllib3>=1.15 in c:\\users\\olive\\anaconda3\\lib\\site-packages (from arduino-iot-client) (1.26.7)\n",
      "Requirement already satisfied: six>=1.10 in c:\\users\\olive\\anaconda3\\lib\\site-packages (from arduino-iot-client) (1.16.0)\n",
      "Requirement already satisfied: python-dateutil in c:\\users\\olive\\anaconda3\\lib\\site-packages (from arduino-iot-client) (2.8.2)\n",
      "Requirement already satisfied: certifi in c:\\users\\olive\\anaconda3\\lib\\site-packages (from arduino-iot-client) (2021.10.8)\n",
      "Installing collected packages: arduino-iot-client\n",
      "Successfully installed arduino-iot-client-1.4.1\n",
      "Note: you may need to restart the kernel to use updated packages.\n"
     ]
    }
   ],
   "source": [
    "pip install arduino-iot-client"
   ]
  },
  {
   "cell_type": "code",
   "execution_count": 2,
   "id": "75ad3fc1",
   "metadata": {},
   "outputs": [
    {
     "name": "stdout",
     "output_type": "stream",
     "text": [
      "Collecting requests-oauthlib\n",
      "  Downloading requests_oauthlib-1.3.1-py2.py3-none-any.whl (23 kB)\n",
      "Requirement already satisfied: requests>=2.0.0 in c:\\users\\olive\\anaconda3\\lib\\site-packages (from requests-oauthlib) (2.26.0)\n",
      "Collecting oauthlib>=3.0.0\n",
      "  Downloading oauthlib-3.2.0-py3-none-any.whl (151 kB)\n",
      "Requirement already satisfied: certifi>=2017.4.17 in c:\\users\\olive\\anaconda3\\lib\\site-packages (from requests>=2.0.0->requests-oauthlib) (2021.10.8)\n",
      "Requirement already satisfied: charset-normalizer~=2.0.0 in c:\\users\\olive\\anaconda3\\lib\\site-packages (from requests>=2.0.0->requests-oauthlib) (2.0.4)\n",
      "Requirement already satisfied: idna<4,>=2.5 in c:\\users\\olive\\anaconda3\\lib\\site-packages (from requests>=2.0.0->requests-oauthlib) (3.2)\n",
      "Requirement already satisfied: urllib3<1.27,>=1.21.1 in c:\\users\\olive\\anaconda3\\lib\\site-packages (from requests>=2.0.0->requests-oauthlib) (1.26.7)\n",
      "Installing collected packages: oauthlib, requests-oauthlib\n",
      "Successfully installed oauthlib-3.2.0 requests-oauthlib-1.3.1\n",
      "Note: you may need to restart the kernel to use updated packages.\n"
     ]
    }
   ],
   "source": [
    "pip install requests-oauthlib"
   ]
  },
  {
   "cell_type": "code",
   "execution_count": 494,
   "id": "4ffe2409",
   "metadata": {},
   "outputs": [
    {
     "name": "stdout",
     "output_type": "stream",
     "text": [
      "Got a token, expires in 300 seconds\n"
     ]
    }
   ],
   "source": [
    "import os\n",
    "\n",
    "import iot_api_client as iot\n",
    "\n",
    "from oauthlib.oauth2 import BackendApplicationClient\n",
    "from requests_oauthlib import OAuth2Session\n",
    "\n",
    "\n",
    "CLIENT_ID = \"Ij7686MXMIXCS4JyGJTe5nyQNQM6w7R9\"  # get a valid one from your Arduino Create account\n",
    "CLIENT_SECRET = \"BWbnmLopN6lUDPncNZ5zDmAYvHk81TQUbHWFACt9FwysSfqiBgQYhpkVeIYLtYDQ\"  # get a valid one from your Arduino Create account\n",
    "\n",
    "\n",
    "if __name__ == \"__main__\":\n",
    "    # Setup the OAuth2 session that'll be used to request the server an access token\n",
    "    oauth_client = BackendApplicationClient(client_id=CLIENT_ID)\n",
    "    token_url = \"https://api2.arduino.cc/iot/v1/clients/token\"\n",
    "    oauth = OAuth2Session(client=oauth_client)\n",
    "\n",
    "    # This will fire an actual HTTP call to the server to exchange client_id and\n",
    "    # client_secret with a fresh access token\n",
    "    token = oauth.fetch_token(\n",
    "        token_url=token_url,\n",
    "        client_id=CLIENT_ID,\n",
    "        client_secret=CLIENT_SECRET,\n",
    "        include_client_id=True,\n",
    "        audience=\"https://api2.arduino.cc/iot\",\n",
    "    )\n",
    "\n",
    "    # If we get here we got the token, print its expiration time\n",
    "    print(\"Got a token, expires in {} seconds\".format(token.get(\"expires_in\")))\n",
    "\n",
    "    # Now we setup the iot-api Python client, first of all create a\n",
    "    # configuration object. The access token goes in the config object.\n",
    "    client_config = iot.Configuration(host=\"https://api2.arduino.cc/iot\")\n",
    "    # client_config.debug = True\n",
    "    client_config.access_token = token.get(\"access_token\")\n",
    "\n",
    "    # Create the iot-api Python client with the given configuration\n",
    "    client = iot.ApiClient(client_config)\n",
    "\n",
    "    # Each API model has its own wrapper, here we want to interact with\n",
    "    # devices, so we create a DevicesV2Api object\n",
    "    devices = iot.DevicesV2Api(client)\n",
    "    things = iot.ThingsV2Api(client)\n",
    "    properties = iot.PropertiesV2Api(client)\n",
    "\n",
    "    # Get a list of devices, catching the specific exception\n",
    "    "
   ]
  },
  {
   "cell_type": "code",
   "execution_count": 20,
   "id": "ca608baa",
   "metadata": {},
   "outputs": [
    {
     "data": {
      "text/plain": [
       "[{'created_at': datetime.datetime(2022, 2, 1, 9, 55, 3, 248156, tzinfo=tzutc()),\n",
       "  'href': '/iot/v2/devices/9ae3058f-58cf-4bd6-9302-f4059c034248',\n",
       "  'id': '9ae3058f-58cf-4bd6-9302-f4059c034248',\n",
       "  'metadata': None,\n",
       "  'name': 'VESNA_sensors',\n",
       "  'serial': '',\n",
       "  'type': 'login_and_secretkey_wifi',\n",
       "  'user_id': '3227e53b-1284-4a07-9024-5eb5755dd7be',\n",
       "  'webhooks': None},\n",
       " {'created_at': datetime.datetime(2022, 2, 2, 8, 42, 48, 802021, tzinfo=tzutc()),\n",
       "  'href': '/iot/v2/devices/b21b6a24-dcd7-486b-b97f-b72c246cd156',\n",
       "  'id': 'b21b6a24-dcd7-486b-b97f-b72c246cd156',\n",
       "  'metadata': None,\n",
       "  'name': 'VESNA_actuators',\n",
       "  'serial': '',\n",
       "  'type': 'login_and_secretkey_wifi',\n",
       "  'user_id': '3227e53b-1284-4a07-9024-5eb5755dd7be',\n",
       "  'webhooks': None}]"
      ]
     },
     "execution_count": 20,
     "metadata": {},
     "output_type": "execute_result"
    }
   ],
   "source": [
    "# devices\n",
    "(devices.devices_v2_list())\n"
   ]
  },
  {
   "cell_type": "markdown",
   "id": "d70595eb",
   "metadata": {},
   "source": [
    "Senzory"
   ]
  },
  {
   "cell_type": "code",
   "execution_count": 298,
   "id": "fbc0425a",
   "metadata": {},
   "outputs": [
    {
     "name": "stdout",
     "output_type": "stream",
     "text": [
      "{'created_at': datetime.datetime(2022, 2, 1, 9, 51, 22, 93644, tzinfo=tzutc()),\n",
      " 'deleted_at': None,\n",
      " 'href': '/iot/v1/things/95e254c8-7421-4d0e-bcb6-4b6991c87b4f/properties/d6653286-1d51-49d0-83b9-0dd6bf6b54fe',\n",
      " 'id': 'd6653286-1d51-49d0-83b9-0dd6bf6b54fe',\n",
      " 'last_value': None,\n",
      " 'max_value': None,\n",
      " 'min_value': None,\n",
      " 'name': 'light',\n",
      " 'permission': 'READ_ONLY',\n",
      " 'persist': True,\n",
      " 'thing_id': '95e254c8-7421-4d0e-bcb6-4b6991c87b4f',\n",
      " 'type': 'FLOAT',\n",
      " 'update_parameter': 3.0,\n",
      " 'update_strategy': 'TIMED',\n",
      " 'updated_at': datetime.datetime(2022, 2, 1, 9, 51, 22, 93644, tzinfo=tzutc()),\n",
      " 'value_updated_at': None,\n",
      " 'variable_name': 'light'}\n"
     ]
    }
   ],
   "source": [
    "#api_instance = iot.DashboardsV2Api(client)\n",
    "# Sensors properties\n",
    "print(devices.devices_v2_get_properties('9ae3058f-58cf-4bd6-9302-f4059c034248').properties[4])\n"
   ]
  },
  {
   "cell_type": "code",
   "execution_count": 356,
   "id": "47c30d02",
   "metadata": {},
   "outputs": [
    {
     "data": {
      "text/plain": [
       "{'data_retention_days': 90.0,\n",
       " 'device_id': '9ae3058f-58cf-4bd6-9302-f4059c034248',\n",
       " 'properties': [{'created_at': datetime.datetime(2022, 3, 23, 15, 39, 37, 211524, tzinfo=tzutc()),\n",
       "                 'deleted_at': None,\n",
       "                 'href': '/iot/v1/things/95e254c8-7421-4d0e-bcb6-4b6991c87b4f/properties/179e1ae1-9410-4b6c-9d72-8bf009deb425',\n",
       "                 'id': '179e1ae1-9410-4b6c-9d72-8bf009deb425',\n",
       "                 'last_value': None,\n",
       "                 'max_value': None,\n",
       "                 'min_value': None,\n",
       "                 'name': 'flow_rate',\n",
       "                 'permission': 'READ_ONLY',\n",
       "                 'persist': True,\n",
       "                 'thing_id': '95e254c8-7421-4d0e-bcb6-4b6991c87b4f',\n",
       "                 'type': 'FLOAT',\n",
       "                 'update_parameter': 1.0,\n",
       "                 'update_strategy': 'ON_CHANGE',\n",
       "                 'updated_at': datetime.datetime(2022, 3, 23, 16, 59, 50, 559252, tzinfo=tzutc()),\n",
       "                 'value_updated_at': None,\n",
       "                 'variable_name': 'flow_rate'},\n",
       "                {'created_at': datetime.datetime(2022, 2, 1, 9, 51, 6, 188742, tzinfo=tzutc()),\n",
       "                 'deleted_at': None,\n",
       "                 'href': '/iot/v1/things/95e254c8-7421-4d0e-bcb6-4b6991c87b4f/properties/248bd031-8b74-4923-9264-d36b5659d061',\n",
       "                 'id': '248bd031-8b74-4923-9264-d36b5659d061',\n",
       "                 'last_value': None,\n",
       "                 'max_value': None,\n",
       "                 'min_value': None,\n",
       "                 'name': 'hum_avg',\n",
       "                 'permission': 'READ_ONLY',\n",
       "                 'persist': True,\n",
       "                 'thing_id': '95e254c8-7421-4d0e-bcb6-4b6991c87b4f',\n",
       "                 'type': 'FLOAT',\n",
       "                 'update_parameter': 3.0,\n",
       "                 'update_strategy': 'TIMED',\n",
       "                 'updated_at': datetime.datetime(2022, 2, 1, 9, 51, 6, 188742, tzinfo=tzutc()),\n",
       "                 'value_updated_at': None,\n",
       "                 'variable_name': 'hum_avg'},\n",
       "                {'created_at': datetime.datetime(2022, 2, 1, 9, 50, 52, 275350, tzinfo=tzutc()),\n",
       "                 'deleted_at': None,\n",
       "                 'href': '/iot/v1/things/95e254c8-7421-4d0e-bcb6-4b6991c87b4f/properties/3b3eccfa-bce9-40d5-a187-a82b75bf300d',\n",
       "                 'id': '3b3eccfa-bce9-40d5-a187-a82b75bf300d',\n",
       "                 'last_value': None,\n",
       "                 'max_value': None,\n",
       "                 'min_value': None,\n",
       "                 'name': 'hum_bme',\n",
       "                 'permission': 'READ_ONLY',\n",
       "                 'persist': True,\n",
       "                 'thing_id': '95e254c8-7421-4d0e-bcb6-4b6991c87b4f',\n",
       "                 'type': 'FLOAT',\n",
       "                 'update_parameter': 3.0,\n",
       "                 'update_strategy': 'TIMED',\n",
       "                 'updated_at': datetime.datetime(2022, 2, 1, 9, 50, 52, 275350, tzinfo=tzutc()),\n",
       "                 'value_updated_at': None,\n",
       "                 'variable_name': 'hum_bme'},\n",
       "                {'created_at': datetime.datetime(2022, 2, 1, 9, 50, 39, 897023, tzinfo=tzutc()),\n",
       "                 'deleted_at': None,\n",
       "                 'href': '/iot/v1/things/95e254c8-7421-4d0e-bcb6-4b6991c87b4f/properties/d69a1c3a-0e1f-4461-bc76-727c68e2b4d3',\n",
       "                 'id': 'd69a1c3a-0e1f-4461-bc76-727c68e2b4d3',\n",
       "                 'last_value': None,\n",
       "                 'max_value': None,\n",
       "                 'min_value': None,\n",
       "                 'name': 'hum_dht',\n",
       "                 'permission': 'READ_ONLY',\n",
       "                 'persist': True,\n",
       "                 'thing_id': '95e254c8-7421-4d0e-bcb6-4b6991c87b4f',\n",
       "                 'type': 'FLOAT',\n",
       "                 'update_parameter': 3.0,\n",
       "                 'update_strategy': 'TIMED',\n",
       "                 'updated_at': datetime.datetime(2022, 2, 1, 9, 50, 39, 897023, tzinfo=tzutc()),\n",
       "                 'value_updated_at': None,\n",
       "                 'variable_name': 'hum_dht'},\n",
       "                {'created_at': datetime.datetime(2022, 2, 1, 9, 51, 22, 93644, tzinfo=tzutc()),\n",
       "                 'deleted_at': None,\n",
       "                 'href': '/iot/v1/things/95e254c8-7421-4d0e-bcb6-4b6991c87b4f/properties/d6653286-1d51-49d0-83b9-0dd6bf6b54fe',\n",
       "                 'id': 'd6653286-1d51-49d0-83b9-0dd6bf6b54fe',\n",
       "                 'last_value': None,\n",
       "                 'max_value': None,\n",
       "                 'min_value': None,\n",
       "                 'name': 'light',\n",
       "                 'permission': 'READ_ONLY',\n",
       "                 'persist': True,\n",
       "                 'thing_id': '95e254c8-7421-4d0e-bcb6-4b6991c87b4f',\n",
       "                 'type': 'FLOAT',\n",
       "                 'update_parameter': 3.0,\n",
       "                 'update_strategy': 'TIMED',\n",
       "                 'updated_at': datetime.datetime(2022, 2, 1, 9, 51, 22, 93644, tzinfo=tzutc()),\n",
       "                 'value_updated_at': None,\n",
       "                 'variable_name': 'light'},\n",
       "                {'created_at': datetime.datetime(2022, 2, 1, 9, 50, 17, 998299, tzinfo=tzutc()),\n",
       "                 'deleted_at': None,\n",
       "                 'href': '/iot/v1/things/95e254c8-7421-4d0e-bcb6-4b6991c87b4f/properties/8b7294c8-93e9-4ab0-911f-89ffcf3830c4',\n",
       "                 'id': '8b7294c8-93e9-4ab0-911f-89ffcf3830c4',\n",
       "                 'last_value': None,\n",
       "                 'max_value': None,\n",
       "                 'min_value': None,\n",
       "                 'name': 'temp_avg',\n",
       "                 'permission': 'READ_ONLY',\n",
       "                 'persist': True,\n",
       "                 'thing_id': '95e254c8-7421-4d0e-bcb6-4b6991c87b4f',\n",
       "                 'type': 'FLOAT',\n",
       "                 'update_parameter': 3.0,\n",
       "                 'update_strategy': 'TIMED',\n",
       "                 'updated_at': datetime.datetime(2022, 2, 1, 9, 50, 17, 998299, tzinfo=tzutc()),\n",
       "                 'value_updated_at': None,\n",
       "                 'variable_name': 'temp_avg'},\n",
       "                {'created_at': datetime.datetime(2022, 2, 1, 9, 49, 55, 385929, tzinfo=tzutc()),\n",
       "                 'deleted_at': None,\n",
       "                 'href': '/iot/v1/things/95e254c8-7421-4d0e-bcb6-4b6991c87b4f/properties/a4e7f374-07f2-4071-ba07-f3c96a09a250',\n",
       "                 'id': 'a4e7f374-07f2-4071-ba07-f3c96a09a250',\n",
       "                 'last_value': None,\n",
       "                 'max_value': None,\n",
       "                 'min_value': None,\n",
       "                 'name': 'temp_bme',\n",
       "                 'permission': 'READ_ONLY',\n",
       "                 'persist': True,\n",
       "                 'thing_id': '95e254c8-7421-4d0e-bcb6-4b6991c87b4f',\n",
       "                 'type': 'FLOAT',\n",
       "                 'update_parameter': 3.0,\n",
       "                 'update_strategy': 'TIMED',\n",
       "                 'updated_at': datetime.datetime(2022, 2, 1, 9, 49, 55, 385929, tzinfo=tzutc()),\n",
       "                 'value_updated_at': None,\n",
       "                 'variable_name': 'temp_bme'},\n",
       "                {'created_at': datetime.datetime(2022, 2, 1, 9, 49, 3, 472349, tzinfo=tzutc()),\n",
       "                 'deleted_at': None,\n",
       "                 'href': '/iot/v1/things/95e254c8-7421-4d0e-bcb6-4b6991c87b4f/properties/68f17374-437c-466d-a7fc-b9b5906002b1',\n",
       "                 'id': '68f17374-437c-466d-a7fc-b9b5906002b1',\n",
       "                 'last_value': None,\n",
       "                 'max_value': None,\n",
       "                 'min_value': None,\n",
       "                 'name': 'temp_bottom',\n",
       "                 'permission': 'READ_ONLY',\n",
       "                 'persist': True,\n",
       "                 'thing_id': '95e254c8-7421-4d0e-bcb6-4b6991c87b4f',\n",
       "                 'type': 'FLOAT',\n",
       "                 'update_parameter': 3.0,\n",
       "                 'update_strategy': 'TIMED',\n",
       "                 'updated_at': datetime.datetime(2022, 2, 1, 9, 49, 3, 472349, tzinfo=tzutc()),\n",
       "                 'value_updated_at': None,\n",
       "                 'variable_name': 'temp_bottom'},\n",
       "                {'created_at': datetime.datetime(2022, 2, 1, 9, 49, 32, 766441, tzinfo=tzutc()),\n",
       "                 'deleted_at': None,\n",
       "                 'href': '/iot/v1/things/95e254c8-7421-4d0e-bcb6-4b6991c87b4f/properties/567281db-effe-4b49-a907-1e581c463cc0',\n",
       "                 'id': '567281db-effe-4b49-a907-1e581c463cc0',\n",
       "                 'last_value': None,\n",
       "                 'max_value': None,\n",
       "                 'min_value': None,\n",
       "                 'name': 'temp_dht',\n",
       "                 'permission': 'READ_ONLY',\n",
       "                 'persist': True,\n",
       "                 'thing_id': '95e254c8-7421-4d0e-bcb6-4b6991c87b4f',\n",
       "                 'type': 'FLOAT',\n",
       "                 'update_parameter': 3.0,\n",
       "                 'update_strategy': 'TIMED',\n",
       "                 'updated_at': datetime.datetime(2022, 2, 1, 9, 49, 32, 766441, tzinfo=tzutc()),\n",
       "                 'value_updated_at': None,\n",
       "                 'variable_name': 'temp_dht'},\n",
       "                {'created_at': datetime.datetime(2022, 1, 31, 16, 9, 19, 630154, tzinfo=tzutc()),\n",
       "                 'deleted_at': None,\n",
       "                 'href': '/iot/v1/things/95e254c8-7421-4d0e-bcb6-4b6991c87b4f/properties/61e6a028-5d0d-4ae5-9684-069fed62d784',\n",
       "                 'id': '61e6a028-5d0d-4ae5-9684-069fed62d784',\n",
       "                 'last_value': None,\n",
       "                 'max_value': None,\n",
       "                 'min_value': None,\n",
       "                 'name': 'temp_top',\n",
       "                 'permission': 'READ_ONLY',\n",
       "                 'persist': True,\n",
       "                 'thing_id': '95e254c8-7421-4d0e-bcb6-4b6991c87b4f',\n",
       "                 'type': 'HOME_TEMPERATURE_C',\n",
       "                 'update_parameter': 3.0,\n",
       "                 'update_strategy': 'TIMED',\n",
       "                 'updated_at': datetime.datetime(2022, 2, 2, 9, 46, 26, 849626, tzinfo=tzutc()),\n",
       "                 'value_updated_at': None,\n",
       "                 'variable_name': 'temp_top'},\n",
       "                {'created_at': datetime.datetime(2022, 3, 23, 15, 41, 50, 864659, tzinfo=tzutc()),\n",
       "                 'deleted_at': None,\n",
       "                 'href': '/iot/v1/things/95e254c8-7421-4d0e-bcb6-4b6991c87b4f/properties/974afe32-94cc-4e49-9b74-d7f2eafeae45',\n",
       "                 'id': '974afe32-94cc-4e49-9b74-d7f2eafeae45',\n",
       "                 'last_value': None,\n",
       "                 'max_value': None,\n",
       "                 'min_value': None,\n",
       "                 'name': 'total_mL',\n",
       "                 'permission': 'READ_WRITE',\n",
       "                 'persist': True,\n",
       "                 'thing_id': '95e254c8-7421-4d0e-bcb6-4b6991c87b4f',\n",
       "                 'type': 'INT',\n",
       "                 'update_parameter': 1.0,\n",
       "                 'update_strategy': 'ON_CHANGE',\n",
       "                 'updated_at': datetime.datetime(2022, 3, 23, 15, 46, 8, 340232, tzinfo=tzutc()),\n",
       "                 'value_updated_at': None,\n",
       "                 'variable_name': 'total_mL'},\n",
       "                {'created_at': datetime.datetime(2022, 3, 21, 17, 11, 59, 932570, tzinfo=tzutc()),\n",
       "                 'deleted_at': None,\n",
       "                 'href': '/iot/v1/things/95e254c8-7421-4d0e-bcb6-4b6991c87b4f/properties/67e83f0d-524f-433b-b478-51a5275040af',\n",
       "                 'id': '67e83f0d-524f-433b-b478-51a5275040af',\n",
       "                 'last_value': None,\n",
       "                 'max_value': None,\n",
       "                 'min_value': None,\n",
       "                 'name': 'doors',\n",
       "                 'permission': 'READ_ONLY',\n",
       "                 'persist': True,\n",
       "                 'thing_id': '95e254c8-7421-4d0e-bcb6-4b6991c87b4f',\n",
       "                 'type': 'STATUS',\n",
       "                 'update_parameter': 3.0,\n",
       "                 'update_strategy': 'TIMED',\n",
       "                 'updated_at': datetime.datetime(2022, 3, 21, 17, 11, 59, 932570, tzinfo=tzutc()),\n",
       "                 'value_updated_at': None,\n",
       "                 'variable_name': 'doors'}],\n",
       " 'user_id': '3227e53b-1284-4a07-9024-5eb5755dd7be'}"
      ]
     },
     "execution_count": 356,
     "metadata": {},
     "output_type": "execute_result"
    }
   ],
   "source": [
    "devices.devices_v2_get_properties('9ae3058f-58cf-4bd6-9302-f4059c034248')"
   ]
  },
  {
   "cell_type": "code",
   "execution_count": 183,
   "id": "49c8b19b",
   "metadata": {},
   "outputs": [
    {
     "data": {
      "text/plain": [
       "[{'created_at': datetime.datetime(2022, 3, 23, 15, 39, 37, 211524, tzinfo=tzutc()),\n",
       "  'deleted_at': None,\n",
       "  'href': '/iot/v1/things/95e254c8-7421-4d0e-bcb6-4b6991c87b4f/properties/179e1ae1-9410-4b6c-9d72-8bf009deb425',\n",
       "  'id': '179e1ae1-9410-4b6c-9d72-8bf009deb425',\n",
       "  'last_value': 'N/A',\n",
       "  'max_value': None,\n",
       "  'min_value': None,\n",
       "  'name': 'flow_rate',\n",
       "  'permission': 'READ_ONLY',\n",
       "  'persist': True,\n",
       "  'thing_id': '95e254c8-7421-4d0e-bcb6-4b6991c87b4f',\n",
       "  'type': 'FLOAT',\n",
       "  'update_parameter': 3.0,\n",
       "  'update_strategy': 'ON_CHANGE',\n",
       "  'updated_at': datetime.datetime(2022, 3, 23, 15, 45, 29, 314252, tzinfo=tzutc()),\n",
       "  'value_updated_at': None,\n",
       "  'variable_name': 'flow_rate'},\n",
       " {'created_at': datetime.datetime(2022, 2, 1, 9, 51, 6, 188742, tzinfo=tzutc()),\n",
       "  'deleted_at': None,\n",
       "  'href': '/iot/v1/things/95e254c8-7421-4d0e-bcb6-4b6991c87b4f/properties/248bd031-8b74-4923-9264-d36b5659d061',\n",
       "  'id': '248bd031-8b74-4923-9264-d36b5659d061',\n",
       "  'last_value': 0,\n",
       "  'max_value': None,\n",
       "  'min_value': None,\n",
       "  'name': 'hum_avg',\n",
       "  'permission': 'READ_ONLY',\n",
       "  'persist': True,\n",
       "  'thing_id': '95e254c8-7421-4d0e-bcb6-4b6991c87b4f',\n",
       "  'type': 'FLOAT',\n",
       "  'update_parameter': 3.0,\n",
       "  'update_strategy': 'TIMED',\n",
       "  'updated_at': datetime.datetime(2022, 2, 1, 9, 51, 6, 188742, tzinfo=tzutc()),\n",
       "  'value_updated_at': datetime.datetime(2022, 3, 23, 16, 14, 50, 492000, tzinfo=tzutc()),\n",
       "  'variable_name': 'hum_avg'},\n",
       " {'created_at': datetime.datetime(2022, 2, 1, 9, 50, 52, 275350, tzinfo=tzutc()),\n",
       "  'deleted_at': None,\n",
       "  'href': '/iot/v1/things/95e254c8-7421-4d0e-bcb6-4b6991c87b4f/properties/3b3eccfa-bce9-40d5-a187-a82b75bf300d',\n",
       "  'id': '3b3eccfa-bce9-40d5-a187-a82b75bf300d',\n",
       "  'last_value': 14.206596374511719,\n",
       "  'max_value': None,\n",
       "  'min_value': None,\n",
       "  'name': 'hum_bme',\n",
       "  'permission': 'READ_ONLY',\n",
       "  'persist': True,\n",
       "  'thing_id': '95e254c8-7421-4d0e-bcb6-4b6991c87b4f',\n",
       "  'type': 'FLOAT',\n",
       "  'update_parameter': 3.0,\n",
       "  'update_strategy': 'TIMED',\n",
       "  'updated_at': datetime.datetime(2022, 2, 1, 9, 50, 52, 275350, tzinfo=tzutc()),\n",
       "  'value_updated_at': datetime.datetime(2022, 3, 23, 16, 14, 50, 492000, tzinfo=tzutc()),\n",
       "  'variable_name': 'hum_bme'},\n",
       " {'created_at': datetime.datetime(2022, 2, 1, 9, 50, 39, 897023, tzinfo=tzutc()),\n",
       "  'deleted_at': None,\n",
       "  'href': '/iot/v1/things/95e254c8-7421-4d0e-bcb6-4b6991c87b4f/properties/d69a1c3a-0e1f-4461-bc76-727c68e2b4d3',\n",
       "  'id': 'd69a1c3a-0e1f-4461-bc76-727c68e2b4d3',\n",
       "  'last_value': 17.5,\n",
       "  'max_value': None,\n",
       "  'min_value': None,\n",
       "  'name': 'hum_dht',\n",
       "  'permission': 'READ_ONLY',\n",
       "  'persist': True,\n",
       "  'thing_id': '95e254c8-7421-4d0e-bcb6-4b6991c87b4f',\n",
       "  'type': 'FLOAT',\n",
       "  'update_parameter': 3.0,\n",
       "  'update_strategy': 'TIMED',\n",
       "  'updated_at': datetime.datetime(2022, 2, 1, 9, 50, 39, 897023, tzinfo=tzutc()),\n",
       "  'value_updated_at': datetime.datetime(2022, 3, 23, 16, 14, 50, 492000, tzinfo=tzutc()),\n",
       "  'variable_name': 'hum_dht'},\n",
       " {'created_at': datetime.datetime(2022, 2, 1, 9, 51, 22, 93644, tzinfo=tzutc()),\n",
       "  'deleted_at': None,\n",
       "  'href': '/iot/v1/things/95e254c8-7421-4d0e-bcb6-4b6991c87b4f/properties/d6653286-1d51-49d0-83b9-0dd6bf6b54fe',\n",
       "  'id': 'd6653286-1d51-49d0-83b9-0dd6bf6b54fe',\n",
       "  'last_value': 2064,\n",
       "  'max_value': None,\n",
       "  'min_value': None,\n",
       "  'name': 'light',\n",
       "  'permission': 'READ_ONLY',\n",
       "  'persist': True,\n",
       "  'thing_id': '95e254c8-7421-4d0e-bcb6-4b6991c87b4f',\n",
       "  'type': 'FLOAT',\n",
       "  'update_parameter': 3.0,\n",
       "  'update_strategy': 'TIMED',\n",
       "  'updated_at': datetime.datetime(2022, 2, 1, 9, 51, 22, 93644, tzinfo=tzutc()),\n",
       "  'value_updated_at': datetime.datetime(2022, 3, 23, 16, 14, 50, 492000, tzinfo=tzutc()),\n",
       "  'variable_name': 'light'},\n",
       " {'created_at': datetime.datetime(2022, 2, 1, 9, 50, 17, 998299, tzinfo=tzutc()),\n",
       "  'deleted_at': None,\n",
       "  'href': '/iot/v1/things/95e254c8-7421-4d0e-bcb6-4b6991c87b4f/properties/8b7294c8-93e9-4ab0-911f-89ffcf3830c4',\n",
       "  'id': '8b7294c8-93e9-4ab0-911f-89ffcf3830c4',\n",
       "  'last_value': 0,\n",
       "  'max_value': None,\n",
       "  'min_value': None,\n",
       "  'name': 'temp_avg',\n",
       "  'permission': 'READ_ONLY',\n",
       "  'persist': True,\n",
       "  'thing_id': '95e254c8-7421-4d0e-bcb6-4b6991c87b4f',\n",
       "  'type': 'FLOAT',\n",
       "  'update_parameter': 3.0,\n",
       "  'update_strategy': 'TIMED',\n",
       "  'updated_at': datetime.datetime(2022, 2, 1, 9, 50, 17, 998299, tzinfo=tzutc()),\n",
       "  'value_updated_at': datetime.datetime(2022, 3, 23, 16, 14, 50, 492000, tzinfo=tzutc()),\n",
       "  'variable_name': 'temp_avg'},\n",
       " {'created_at': datetime.datetime(2022, 2, 1, 9, 49, 55, 385929, tzinfo=tzutc()),\n",
       "  'deleted_at': None,\n",
       "  'href': '/iot/v1/things/95e254c8-7421-4d0e-bcb6-4b6991c87b4f/properties/a4e7f374-07f2-4071-ba07-f3c96a09a250',\n",
       "  'id': 'a4e7f374-07f2-4071-ba07-f3c96a09a250',\n",
       "  'last_value': 27.447362899780273,\n",
       "  'max_value': None,\n",
       "  'min_value': None,\n",
       "  'name': 'temp_bme',\n",
       "  'permission': 'READ_ONLY',\n",
       "  'persist': True,\n",
       "  'thing_id': '95e254c8-7421-4d0e-bcb6-4b6991c87b4f',\n",
       "  'type': 'FLOAT',\n",
       "  'update_parameter': 3.0,\n",
       "  'update_strategy': 'TIMED',\n",
       "  'updated_at': datetime.datetime(2022, 2, 1, 9, 49, 55, 385929, tzinfo=tzutc()),\n",
       "  'value_updated_at': datetime.datetime(2022, 3, 23, 16, 14, 50, 492000, tzinfo=tzutc()),\n",
       "  'variable_name': 'temp_bme'},\n",
       " {'created_at': datetime.datetime(2022, 2, 1, 9, 49, 3, 472349, tzinfo=tzutc()),\n",
       "  'deleted_at': None,\n",
       "  'href': '/iot/v1/things/95e254c8-7421-4d0e-bcb6-4b6991c87b4f/properties/68f17374-437c-466d-a7fc-b9b5906002b1',\n",
       "  'id': '68f17374-437c-466d-a7fc-b9b5906002b1',\n",
       "  'last_value': 25.6875,\n",
       "  'max_value': None,\n",
       "  'min_value': None,\n",
       "  'name': 'temp_bottom',\n",
       "  'permission': 'READ_ONLY',\n",
       "  'persist': True,\n",
       "  'thing_id': '95e254c8-7421-4d0e-bcb6-4b6991c87b4f',\n",
       "  'type': 'FLOAT',\n",
       "  'update_parameter': 3.0,\n",
       "  'update_strategy': 'TIMED',\n",
       "  'updated_at': datetime.datetime(2022, 2, 1, 9, 49, 3, 472349, tzinfo=tzutc()),\n",
       "  'value_updated_at': datetime.datetime(2022, 3, 23, 16, 14, 50, 492000, tzinfo=tzutc()),\n",
       "  'variable_name': 'temp_bottom'},\n",
       " {'created_at': datetime.datetime(2022, 2, 1, 9, 49, 32, 766441, tzinfo=tzutc()),\n",
       "  'deleted_at': None,\n",
       "  'href': '/iot/v1/things/95e254c8-7421-4d0e-bcb6-4b6991c87b4f/properties/567281db-effe-4b49-a907-1e581c463cc0',\n",
       "  'id': '567281db-effe-4b49-a907-1e581c463cc0',\n",
       "  'last_value': 26.899999618530273,\n",
       "  'max_value': None,\n",
       "  'min_value': None,\n",
       "  'name': 'temp_dht',\n",
       "  'permission': 'READ_ONLY',\n",
       "  'persist': True,\n",
       "  'thing_id': '95e254c8-7421-4d0e-bcb6-4b6991c87b4f',\n",
       "  'type': 'FLOAT',\n",
       "  'update_parameter': 3.0,\n",
       "  'update_strategy': 'TIMED',\n",
       "  'updated_at': datetime.datetime(2022, 2, 1, 9, 49, 32, 766441, tzinfo=tzutc()),\n",
       "  'value_updated_at': datetime.datetime(2022, 3, 23, 16, 14, 50, 492000, tzinfo=tzutc()),\n",
       "  'variable_name': 'temp_dht'},\n",
       " {'created_at': datetime.datetime(2022, 1, 31, 16, 9, 19, 630154, tzinfo=tzutc()),\n",
       "  'deleted_at': None,\n",
       "  'href': '/iot/v1/things/95e254c8-7421-4d0e-bcb6-4b6991c87b4f/properties/61e6a028-5d0d-4ae5-9684-069fed62d784',\n",
       "  'id': '61e6a028-5d0d-4ae5-9684-069fed62d784',\n",
       "  'last_value': 32.25,\n",
       "  'max_value': None,\n",
       "  'min_value': None,\n",
       "  'name': 'temp_top',\n",
       "  'permission': 'READ_ONLY',\n",
       "  'persist': True,\n",
       "  'thing_id': '95e254c8-7421-4d0e-bcb6-4b6991c87b4f',\n",
       "  'type': 'HOME_TEMPERATURE_C',\n",
       "  'update_parameter': 3.0,\n",
       "  'update_strategy': 'TIMED',\n",
       "  'updated_at': datetime.datetime(2022, 2, 2, 9, 46, 26, 849626, tzinfo=tzutc()),\n",
       "  'value_updated_at': datetime.datetime(2022, 3, 23, 16, 14, 50, 492000, tzinfo=tzutc()),\n",
       "  'variable_name': 'temp_top'},\n",
       " {'created_at': datetime.datetime(2022, 3, 23, 15, 41, 50, 864659, tzinfo=tzutc()),\n",
       "  'deleted_at': None,\n",
       "  'href': '/iot/v1/things/95e254c8-7421-4d0e-bcb6-4b6991c87b4f/properties/974afe32-94cc-4e49-9b74-d7f2eafeae45',\n",
       "  'id': '974afe32-94cc-4e49-9b74-d7f2eafeae45',\n",
       "  'last_value': 'N/A',\n",
       "  'max_value': None,\n",
       "  'min_value': None,\n",
       "  'name': 'total_mL',\n",
       "  'permission': 'READ_WRITE',\n",
       "  'persist': True,\n",
       "  'thing_id': '95e254c8-7421-4d0e-bcb6-4b6991c87b4f',\n",
       "  'type': 'INT',\n",
       "  'update_parameter': 1.0,\n",
       "  'update_strategy': 'ON_CHANGE',\n",
       "  'updated_at': datetime.datetime(2022, 3, 23, 15, 46, 8, 340232, tzinfo=tzutc()),\n",
       "  'value_updated_at': None,\n",
       "  'variable_name': 'total_mL'},\n",
       " {'created_at': datetime.datetime(2022, 3, 21, 17, 11, 59, 932570, tzinfo=tzutc()),\n",
       "  'deleted_at': None,\n",
       "  'href': '/iot/v1/things/95e254c8-7421-4d0e-bcb6-4b6991c87b4f/properties/67e83f0d-524f-433b-b478-51a5275040af',\n",
       "  'id': '67e83f0d-524f-433b-b478-51a5275040af',\n",
       "  'last_value': True,\n",
       "  'max_value': None,\n",
       "  'min_value': None,\n",
       "  'name': 'doors',\n",
       "  'permission': 'READ_ONLY',\n",
       "  'persist': True,\n",
       "  'thing_id': '95e254c8-7421-4d0e-bcb6-4b6991c87b4f',\n",
       "  'type': 'STATUS',\n",
       "  'update_parameter': 3.0,\n",
       "  'update_strategy': 'TIMED',\n",
       "  'updated_at': datetime.datetime(2022, 3, 21, 17, 11, 59, 932570, tzinfo=tzutc()),\n",
       "  'value_updated_at': datetime.datetime(2022, 3, 23, 16, 14, 50, 492000, tzinfo=tzutc()),\n",
       "  'variable_name': 'doors'}]"
      ]
     },
     "execution_count": 183,
     "metadata": {},
     "output_type": "execute_result"
    }
   ],
   "source": [
    "# sensor: light - properties\n",
    "#devices.devices_v2_get_properties('d6653286-1d51-49d0-83b9-0dd6bf6b54fe')\n",
    "#devices.devices_v2_timeseries('95e254c8-7421-4d0e-bcb6-4b6991c87b4f')\n",
    "#iot.ThingsV2Api.things_v2_show('95e254c8-7421-4d0e-bcb6-4b6991c87b4f')\n",
    "#iot.ThingsV2Api.things_v2_list\n",
    "#things.things_v2_show('d6653286-1d51-49d0-83b9-0dd6bf6b54fe')\n",
    "#things.things_v2_list()\n",
    "properties.properties_v2_list('95e254c8-7421-4d0e-bcb6-4b6991c87b4f')\n"
   ]
  },
  {
   "cell_type": "code",
   "execution_count": 302,
   "id": "ef0a1620",
   "metadata": {},
   "outputs": [],
   "source": [
    "humid_bme = properties.properties_v2_show('95e254c8-7421-4d0e-bcb6-4b6991c87b4f','3b3eccfa-bce9-40d5-a187-a82b75bf300d').last_value"
   ]
  },
  {
   "cell_type": "code",
   "execution_count": 303,
   "id": "1cae85f0",
   "metadata": {},
   "outputs": [
    {
     "data": {
      "text/plain": [
       "656"
      ]
     },
     "execution_count": 303,
     "metadata": {},
     "output_type": "execute_result"
    }
   ],
   "source": [
    "light = properties.properties_v2_show('95e254c8-7421-4d0e-bcb6-4b6991c87b4f','d6653286-1d51-49d0-83b9-0dd6bf6b54fe').last_value\n",
    "light"
   ]
  },
  {
   "cell_type": "markdown",
   "id": "8fc73b40",
   "metadata": {},
   "source": [
    "Akcne cleny\n"
   ]
  },
  {
   "cell_type": "code",
   "execution_count": 502,
   "id": "2221d175",
   "metadata": {},
   "outputs": [
    {
     "data": {
      "text/plain": [
       "{'data_retention_days': 90.0,\n",
       " 'device_id': 'b21b6a24-dcd7-486b-b97f-b72c246cd156',\n",
       " 'properties': [{'created_at': datetime.datetime(2022, 2, 2, 8, 44, 42, 234177, tzinfo=tzutc()),\n",
       "                 'deleted_at': None,\n",
       "                 'href': '/iot/v1/things/aa0190a8-9312-4a17-8842-25a1dd483860/properties/0c8a7441-7894-4d36-b4ec-7df63dfebd2a',\n",
       "                 'id': '0c8a7441-7894-4d36-b4ec-7df63dfebd2a',\n",
       "                 'last_value': None,\n",
       "                 'max_value': None,\n",
       "                 'min_value': None,\n",
       "                 'name': 'fans',\n",
       "                 'permission': 'READ_WRITE',\n",
       "                 'persist': True,\n",
       "                 'thing_id': 'aa0190a8-9312-4a17-8842-25a1dd483860',\n",
       "                 'type': 'INT',\n",
       "                 'update_parameter': 1.0,\n",
       "                 'update_strategy': 'ON_CHANGE',\n",
       "                 'updated_at': datetime.datetime(2022, 2, 2, 8, 44, 42, 234177, tzinfo=tzutc()),\n",
       "                 'value_updated_at': None,\n",
       "                 'variable_name': 'fans'},\n",
       "                {'created_at': datetime.datetime(2022, 2, 2, 8, 45, 6, 918147, tzinfo=tzutc()),\n",
       "                 'deleted_at': None,\n",
       "                 'href': '/iot/v1/things/aa0190a8-9312-4a17-8842-25a1dd483860/properties/a9f0e988-ad3d-4d77-b0aa-a82abfc70c58',\n",
       "                 'id': 'a9f0e988-ad3d-4d77-b0aa-a82abfc70c58',\n",
       "                 'last_value': None,\n",
       "                 'max_value': None,\n",
       "                 'min_value': None,\n",
       "                 'name': 'heating',\n",
       "                 'permission': 'READ_WRITE',\n",
       "                 'persist': True,\n",
       "                 'thing_id': 'aa0190a8-9312-4a17-8842-25a1dd483860',\n",
       "                 'type': 'INT',\n",
       "                 'update_parameter': 0.0,\n",
       "                 'update_strategy': 'ON_CHANGE',\n",
       "                 'updated_at': datetime.datetime(2022, 2, 2, 8, 45, 6, 918147, tzinfo=tzutc()),\n",
       "                 'value_updated_at': None,\n",
       "                 'variable_name': 'heating'},\n",
       "                {'created_at': datetime.datetime(2022, 2, 2, 8, 44, 15, 369510, tzinfo=tzutc()),\n",
       "                 'deleted_at': None,\n",
       "                 'href': '/iot/v1/things/aa0190a8-9312-4a17-8842-25a1dd483860/properties/128d9d60-0c2f-4a58-a3e4-fb833e10bf81',\n",
       "                 'id': '128d9d60-0c2f-4a58-a3e4-fb833e10bf81',\n",
       "                 'last_value': None,\n",
       "                 'max_value': None,\n",
       "                 'min_value': None,\n",
       "                 'name': 'lighting',\n",
       "                 'permission': 'READ_WRITE',\n",
       "                 'persist': True,\n",
       "                 'thing_id': 'aa0190a8-9312-4a17-8842-25a1dd483860',\n",
       "                 'type': 'INT',\n",
       "                 'update_parameter': 1.0,\n",
       "                 'update_strategy': 'ON_CHANGE',\n",
       "                 'updated_at': datetime.datetime(2022, 2, 2, 8, 44, 47, 929934, tzinfo=tzutc()),\n",
       "                 'value_updated_at': None,\n",
       "                 'variable_name': 'lighting'},\n",
       "                {'created_at': datetime.datetime(2022, 2, 2, 9, 2, 17, 858308, tzinfo=tzutc()),\n",
       "                 'deleted_at': None,\n",
       "                 'href': '/iot/v1/things/aa0190a8-9312-4a17-8842-25a1dd483860/properties/b26776b4-a096-4883-b752-ddf6c89cc3cd',\n",
       "                 'id': 'b26776b4-a096-4883-b752-ddf6c89cc3cd',\n",
       "                 'last_value': None,\n",
       "                 'max_value': None,\n",
       "                 'min_value': None,\n",
       "                 'name': 'pump',\n",
       "                 'permission': 'READ_WRITE',\n",
       "                 'persist': True,\n",
       "                 'thing_id': 'aa0190a8-9312-4a17-8842-25a1dd483860',\n",
       "                 'type': 'INT',\n",
       "                 'update_parameter': 0.0,\n",
       "                 'update_strategy': 'ON_CHANGE',\n",
       "                 'updated_at': datetime.datetime(2022, 2, 2, 9, 2, 17, 858308, tzinfo=tzutc()),\n",
       "                 'value_updated_at': None,\n",
       "                 'variable_name': 'pump'}],\n",
       " 'user_id': '3227e53b-1284-4a07-9024-5eb5755dd7be'}"
      ]
     },
     "execution_count": 502,
     "metadata": {},
     "output_type": "execute_result"
    }
   ],
   "source": [
    "devices.devices_v2_get_properties('b21b6a24-dcd7-486b-b97f-b72c246cd156')"
   ]
  },
  {
   "cell_type": "code",
   "execution_count": 498,
   "id": "125a3473",
   "metadata": {},
   "outputs": [
    {
     "data": {
      "text/plain": [
       "40"
      ]
     },
     "execution_count": 498,
     "metadata": {},
     "output_type": "execute_result"
    }
   ],
   "source": [
    "properties.properties_v2_show('aa0190a8-9312-4a17-8842-25a1dd483860','0c8a7441-7894-4d36-b4ec-7df63dfebd2a').last_value"
   ]
  },
  {
   "cell_type": "code",
   "execution_count": 343,
   "id": "1d39ddd8",
   "metadata": {},
   "outputs": [
    {
     "name": "stdout",
     "output_type": "stream",
     "text": [
      "Wall time: 1.02 ms\n"
     ]
    }
   ],
   "source": []
  },
  {
   "cell_type": "code",
   "execution_count": 397,
   "id": "e762aef6",
   "metadata": {},
   "outputs": [
    {
     "ename": "ApiException",
     "evalue": "(401)\nReason: Unauthorized\nHTTP response headers: HTTPHeaderDict({'Cache-Control': 'no-cache, no-store, must-revalidate', 'Content-Type': 'application/vnd.goa.error+json', 'Date': 'Mon, 28 Mar 2022 11:58:04 GMT', 'Expires': '0', 'Pragma': 'no-cache', 'Vary': 'Accept-Encoding, Origin', 'Content-Length': '113', 'Connection': 'keep-alive'})\nHTTP response body: {\"id\":\"N7Mv3Gnt\",\"code\":\"unauthorized\",\"status\":401,\"detail\":\"not allowed to to read properties of this device\"}\n\n",
     "output_type": "error",
     "traceback": [
      "\u001b[1;31m---------------------------------------------------------------------------\u001b[0m",
      "\u001b[1;31mApiException\u001b[0m                              Traceback (most recent call last)",
      "\u001b[1;32m~\\AppData\\Local\\Temp/ipykernel_32008/3080306881.py\u001b[0m in \u001b[0;36m<module>\u001b[1;34m\u001b[0m\n\u001b[0;32m      1\u001b[0m \u001b[0mstart\u001b[0m \u001b[1;33m=\u001b[0m \u001b[1;34m'2022-03-28T11:00:00Z'\u001b[0m\u001b[1;33m\u001b[0m\u001b[1;33m\u001b[0m\u001b[0m\n\u001b[1;32m----> 2\u001b[1;33m \u001b[0mdevices\u001b[0m\u001b[1;33m.\u001b[0m\u001b[0mdevices_v2_timeseries\u001b[0m\u001b[1;33m(\u001b[0m\u001b[1;34m'95e254c8-7421-4d0e-bcb6-4b6991c87b4f'\u001b[0m\u001b[1;33m,\u001b[0m\u001b[1;34m'd6653286-1d51-49d0-83b9-0dd6bf6b54fe'\u001b[0m\u001b[1;33m,\u001b[0m\u001b[0mlimit\u001b[0m \u001b[1;33m=\u001b[0m \u001b[1;36m2\u001b[0m\u001b[1;33m,\u001b[0m\u001b[0mstart\u001b[0m \u001b[1;33m=\u001b[0m \u001b[0mstart\u001b[0m\u001b[1;33m)\u001b[0m\u001b[1;33m\u001b[0m\u001b[1;33m\u001b[0m\u001b[0m\n\u001b[0m",
      "\u001b[1;32m~\\anaconda3\\lib\\site-packages\\iot_api_client\\api\\devices_v2_api.py\u001b[0m in \u001b[0;36mdevices_v2_timeseries\u001b[1;34m(self, id, pid, **kwargs)\u001b[0m\n\u001b[0;32m    603\u001b[0m         \"\"\"\n\u001b[0;32m    604\u001b[0m         \u001b[0mkwargs\u001b[0m\u001b[1;33m[\u001b[0m\u001b[1;34m'_return_http_data_only'\u001b[0m\u001b[1;33m]\u001b[0m \u001b[1;33m=\u001b[0m \u001b[1;32mTrue\u001b[0m\u001b[1;33m\u001b[0m\u001b[1;33m\u001b[0m\u001b[0m\n\u001b[1;32m--> 605\u001b[1;33m         \u001b[1;32mreturn\u001b[0m \u001b[0mself\u001b[0m\u001b[1;33m.\u001b[0m\u001b[0mdevices_v2_timeseries_with_http_info\u001b[0m\u001b[1;33m(\u001b[0m\u001b[0mid\u001b[0m\u001b[1;33m,\u001b[0m \u001b[0mpid\u001b[0m\u001b[1;33m,\u001b[0m \u001b[1;33m**\u001b[0m\u001b[0mkwargs\u001b[0m\u001b[1;33m)\u001b[0m  \u001b[1;31m# noqa: E501\u001b[0m\u001b[1;33m\u001b[0m\u001b[1;33m\u001b[0m\u001b[0m\n\u001b[0m\u001b[0;32m    606\u001b[0m \u001b[1;33m\u001b[0m\u001b[0m\n\u001b[0;32m    607\u001b[0m     \u001b[1;32mdef\u001b[0m \u001b[0mdevices_v2_timeseries_with_http_info\u001b[0m\u001b[1;33m(\u001b[0m\u001b[0mself\u001b[0m\u001b[1;33m,\u001b[0m \u001b[0mid\u001b[0m\u001b[1;33m,\u001b[0m \u001b[0mpid\u001b[0m\u001b[1;33m,\u001b[0m \u001b[1;33m**\u001b[0m\u001b[0mkwargs\u001b[0m\u001b[1;33m)\u001b[0m\u001b[1;33m:\u001b[0m  \u001b[1;31m# noqa: E501\u001b[0m\u001b[1;33m\u001b[0m\u001b[1;33m\u001b[0m\u001b[0m\n",
      "\u001b[1;32m~\\anaconda3\\lib\\site-packages\\iot_api_client\\api\\devices_v2_api.py\u001b[0m in \u001b[0;36mdevices_v2_timeseries_with_http_info\u001b[1;34m(self, id, pid, **kwargs)\u001b[0m\n\u001b[0;32m    685\u001b[0m         \u001b[0mauth_settings\u001b[0m \u001b[1;33m=\u001b[0m \u001b[1;33m[\u001b[0m\u001b[1;34m'oauth2'\u001b[0m\u001b[1;33m]\u001b[0m  \u001b[1;31m# noqa: E501\u001b[0m\u001b[1;33m\u001b[0m\u001b[1;33m\u001b[0m\u001b[0m\n\u001b[0;32m    686\u001b[0m \u001b[1;33m\u001b[0m\u001b[0m\n\u001b[1;32m--> 687\u001b[1;33m         return self.api_client.call_api(\n\u001b[0m\u001b[0;32m    688\u001b[0m             \u001b[1;34m'/v2/devices/{id}/properties/{pid}'\u001b[0m\u001b[1;33m,\u001b[0m \u001b[1;34m'GET'\u001b[0m\u001b[1;33m,\u001b[0m\u001b[1;33m\u001b[0m\u001b[1;33m\u001b[0m\u001b[0m\n\u001b[0;32m    689\u001b[0m             \u001b[0mpath_params\u001b[0m\u001b[1;33m,\u001b[0m\u001b[1;33m\u001b[0m\u001b[1;33m\u001b[0m\u001b[0m\n",
      "\u001b[1;32m~\\anaconda3\\lib\\site-packages\\iot_api_client\\api_client.py\u001b[0m in \u001b[0;36mcall_api\u001b[1;34m(self, resource_path, method, path_params, query_params, header_params, body, post_params, files, response_type, auth_settings, async_req, _return_http_data_only, collection_formats, _preload_content, _request_timeout, _host)\u001b[0m\n\u001b[0;32m    334\u001b[0m         \"\"\"\n\u001b[0;32m    335\u001b[0m         \u001b[1;32mif\u001b[0m \u001b[1;32mnot\u001b[0m \u001b[0masync_req\u001b[0m\u001b[1;33m:\u001b[0m\u001b[1;33m\u001b[0m\u001b[1;33m\u001b[0m\u001b[0m\n\u001b[1;32m--> 336\u001b[1;33m             return self.__call_api(resource_path, method,\n\u001b[0m\u001b[0;32m    337\u001b[0m                                    \u001b[0mpath_params\u001b[0m\u001b[1;33m,\u001b[0m \u001b[0mquery_params\u001b[0m\u001b[1;33m,\u001b[0m \u001b[0mheader_params\u001b[0m\u001b[1;33m,\u001b[0m\u001b[1;33m\u001b[0m\u001b[1;33m\u001b[0m\u001b[0m\n\u001b[0;32m    338\u001b[0m                                    \u001b[0mbody\u001b[0m\u001b[1;33m,\u001b[0m \u001b[0mpost_params\u001b[0m\u001b[1;33m,\u001b[0m \u001b[0mfiles\u001b[0m\u001b[1;33m,\u001b[0m\u001b[1;33m\u001b[0m\u001b[1;33m\u001b[0m\u001b[0m\n",
      "\u001b[1;32m~\\anaconda3\\lib\\site-packages\\iot_api_client\\api_client.py\u001b[0m in \u001b[0;36m__call_api\u001b[1;34m(self, resource_path, method, path_params, query_params, header_params, body, post_params, files, response_type, auth_settings, _return_http_data_only, collection_formats, _preload_content, _request_timeout, _host)\u001b[0m\n\u001b[0;32m    166\u001b[0m \u001b[1;33m\u001b[0m\u001b[0m\n\u001b[0;32m    167\u001b[0m         \u001b[1;31m# perform request and return response\u001b[0m\u001b[1;33m\u001b[0m\u001b[1;33m\u001b[0m\u001b[0m\n\u001b[1;32m--> 168\u001b[1;33m         response_data = self.request(\n\u001b[0m\u001b[0;32m    169\u001b[0m             \u001b[0mmethod\u001b[0m\u001b[1;33m,\u001b[0m \u001b[0murl\u001b[0m\u001b[1;33m,\u001b[0m \u001b[0mquery_params\u001b[0m\u001b[1;33m=\u001b[0m\u001b[0mquery_params\u001b[0m\u001b[1;33m,\u001b[0m \u001b[0mheaders\u001b[0m\u001b[1;33m=\u001b[0m\u001b[0mheader_params\u001b[0m\u001b[1;33m,\u001b[0m\u001b[1;33m\u001b[0m\u001b[1;33m\u001b[0m\u001b[0m\n\u001b[0;32m    170\u001b[0m             \u001b[0mpost_params\u001b[0m\u001b[1;33m=\u001b[0m\u001b[0mpost_params\u001b[0m\u001b[1;33m,\u001b[0m \u001b[0mbody\u001b[0m\u001b[1;33m=\u001b[0m\u001b[0mbody\u001b[0m\u001b[1;33m,\u001b[0m\u001b[1;33m\u001b[0m\u001b[1;33m\u001b[0m\u001b[0m\n",
      "\u001b[1;32m~\\anaconda3\\lib\\site-packages\\iot_api_client\\api_client.py\u001b[0m in \u001b[0;36mrequest\u001b[1;34m(self, method, url, query_params, headers, post_params, body, _preload_content, _request_timeout)\u001b[0m\n\u001b[0;32m    358\u001b[0m         \u001b[1;34m\"\"\"Makes the HTTP request using RESTClient.\"\"\"\u001b[0m\u001b[1;33m\u001b[0m\u001b[1;33m\u001b[0m\u001b[0m\n\u001b[0;32m    359\u001b[0m         \u001b[1;32mif\u001b[0m \u001b[0mmethod\u001b[0m \u001b[1;33m==\u001b[0m \u001b[1;34m\"GET\"\u001b[0m\u001b[1;33m:\u001b[0m\u001b[1;33m\u001b[0m\u001b[1;33m\u001b[0m\u001b[0m\n\u001b[1;32m--> 360\u001b[1;33m             return self.rest_client.GET(url,\n\u001b[0m\u001b[0;32m    361\u001b[0m                                         \u001b[0mquery_params\u001b[0m\u001b[1;33m=\u001b[0m\u001b[0mquery_params\u001b[0m\u001b[1;33m,\u001b[0m\u001b[1;33m\u001b[0m\u001b[1;33m\u001b[0m\u001b[0m\n\u001b[0;32m    362\u001b[0m                                         \u001b[0m_preload_content\u001b[0m\u001b[1;33m=\u001b[0m\u001b[0m_preload_content\u001b[0m\u001b[1;33m,\u001b[0m\u001b[1;33m\u001b[0m\u001b[1;33m\u001b[0m\u001b[0m\n",
      "\u001b[1;32m~\\anaconda3\\lib\\site-packages\\iot_api_client\\rest.py\u001b[0m in \u001b[0;36mGET\u001b[1;34m(self, url, headers, query_params, _preload_content, _request_timeout)\u001b[0m\n\u001b[0;32m    233\u001b[0m     def GET(self, url, headers=None, query_params=None, _preload_content=True,\n\u001b[0;32m    234\u001b[0m             _request_timeout=None):\n\u001b[1;32m--> 235\u001b[1;33m         return self.request(\"GET\", url,\n\u001b[0m\u001b[0;32m    236\u001b[0m                             \u001b[0mheaders\u001b[0m\u001b[1;33m=\u001b[0m\u001b[0mheaders\u001b[0m\u001b[1;33m,\u001b[0m\u001b[1;33m\u001b[0m\u001b[1;33m\u001b[0m\u001b[0m\n\u001b[0;32m    237\u001b[0m                             \u001b[0m_preload_content\u001b[0m\u001b[1;33m=\u001b[0m\u001b[0m_preload_content\u001b[0m\u001b[1;33m,\u001b[0m\u001b[1;33m\u001b[0m\u001b[1;33m\u001b[0m\u001b[0m\n",
      "\u001b[1;32m~\\anaconda3\\lib\\site-packages\\iot_api_client\\rest.py\u001b[0m in \u001b[0;36mrequest\u001b[1;34m(self, method, url, query_params, headers, body, post_params, _preload_content, _request_timeout)\u001b[0m\n\u001b[0;32m    227\u001b[0m \u001b[1;33m\u001b[0m\u001b[0m\n\u001b[0;32m    228\u001b[0m         \u001b[1;32mif\u001b[0m \u001b[1;32mnot\u001b[0m \u001b[1;36m200\u001b[0m \u001b[1;33m<=\u001b[0m \u001b[0mr\u001b[0m\u001b[1;33m.\u001b[0m\u001b[0mstatus\u001b[0m \u001b[1;33m<=\u001b[0m \u001b[1;36m299\u001b[0m\u001b[1;33m:\u001b[0m\u001b[1;33m\u001b[0m\u001b[1;33m\u001b[0m\u001b[0m\n\u001b[1;32m--> 229\u001b[1;33m             \u001b[1;32mraise\u001b[0m \u001b[0mApiException\u001b[0m\u001b[1;33m(\u001b[0m\u001b[0mhttp_resp\u001b[0m\u001b[1;33m=\u001b[0m\u001b[0mr\u001b[0m\u001b[1;33m)\u001b[0m\u001b[1;33m\u001b[0m\u001b[1;33m\u001b[0m\u001b[0m\n\u001b[0m\u001b[0;32m    230\u001b[0m \u001b[1;33m\u001b[0m\u001b[0m\n\u001b[0;32m    231\u001b[0m         \u001b[1;32mreturn\u001b[0m \u001b[0mr\u001b[0m\u001b[1;33m\u001b[0m\u001b[1;33m\u001b[0m\u001b[0m\n",
      "\u001b[1;31mApiException\u001b[0m: (401)\nReason: Unauthorized\nHTTP response headers: HTTPHeaderDict({'Cache-Control': 'no-cache, no-store, must-revalidate', 'Content-Type': 'application/vnd.goa.error+json', 'Date': 'Mon, 28 Mar 2022 11:58:04 GMT', 'Expires': '0', 'Pragma': 'no-cache', 'Vary': 'Accept-Encoding, Origin', 'Content-Length': '113', 'Connection': 'keep-alive'})\nHTTP response body: {\"id\":\"N7Mv3Gnt\",\"code\":\"unauthorized\",\"status\":401,\"detail\":\"not allowed to to read properties of this device\"}\n\n"
     ]
    }
   ],
   "source": [
    "start = '2022-03-28T11:00:00Z'\n",
    "devices.devices_v2_timeseries('95e254c8-7421-4d0e-bcb6-4b6991c87b4f','d6653286-1d51-49d0-83b9-0dd6bf6b54fe',limit = 2,start = start)"
   ]
  },
  {
   "cell_type": "code",
   "execution_count": 300,
   "id": "b0cd373f",
   "metadata": {},
   "outputs": [
    {
     "ename": "TypeError",
     "evalue": "'property' object is not callable",
     "output_type": "error",
     "traceback": [
      "\u001b[1;31m---------------------------------------------------------------------------\u001b[0m",
      "\u001b[1;31mTypeError\u001b[0m                                 Traceback (most recent call last)",
      "\u001b[1;32m~\\AppData\\Local\\Temp/ipykernel_32008/2043505180.py\u001b[0m in \u001b[0;36m<module>\u001b[1;34m\u001b[0m\n\u001b[1;32m----> 1\u001b[1;33m \u001b[0miot\u001b[0m\u001b[1;33m.\u001b[0m\u001b[0mArduinoDevicev2propertyvalues\u001b[0m\u001b[1;33m.\u001b[0m\u001b[0mvalues\u001b[0m\u001b[1;33m(\u001b[0m\u001b[1;33m)\u001b[0m\u001b[1;33m\u001b[0m\u001b[1;33m\u001b[0m\u001b[0m\n\u001b[0m",
      "\u001b[1;31mTypeError\u001b[0m: 'property' object is not callable"
     ]
    }
   ],
   "source": []
  },
  {
   "cell_type": "code",
   "execution_count": null,
   "id": "10fa8a30",
   "metadata": {},
   "outputs": [],
   "source": []
  },
  {
   "cell_type": "code",
   "execution_count": null,
   "id": "c640f801",
   "metadata": {},
   "outputs": [],
   "source": []
  },
  {
   "cell_type": "markdown",
   "id": "deed9f7b",
   "metadata": {},
   "source": [
    "Light"
   ]
  },
  {
   "cell_type": "code",
   "execution_count": 394,
   "id": "4b06722b",
   "metadata": {},
   "outputs": [
    {
     "data": {
      "text/plain": [
       "255"
      ]
     },
     "execution_count": 394,
     "metadata": {},
     "output_type": "execute_result"
    }
   ],
   "source": [
    "#'aa0190a8-9312-4a17-8842-25a1dd483860'\n",
    "properties.properties_v2_publish('aa0190a8-9312-4a17-8842-25a1dd483860','128d9d60-0c2f-4a58-a3e4-fb833e10bf81',{'value':255})\n",
    "light = properties.properties_v2_show('aa0190a8-9312-4a17-8842-25a1dd483860','128d9d60-0c2f-4a58-a3e4-fb833e10bf81').last_value\n",
    "light"
   ]
  },
  {
   "cell_type": "markdown",
   "id": "7066ed3a",
   "metadata": {},
   "source": [
    "Pump"
   ]
  },
  {
   "cell_type": "code",
   "execution_count": 283,
   "id": "cab27d93",
   "metadata": {},
   "outputs": [],
   "source": [
    "properties.properties_v2_publish('aa0190a8-9312-4a17-8842-25a1dd483860','b26776b4-a096-4883-b752-ddf6c89cc3cd',{'value':0})\n",
    "pump = properties.properties_v2_show('aa0190a8-9312-4a17-8842-25a1dd483860','b26776b4-a096-4883-b752-ddf6c89cc3cd').last_value\n",
    "pump"
   ]
  },
  {
   "cell_type": "markdown",
   "id": "9f187971",
   "metadata": {},
   "source": [
    "Fans"
   ]
  },
  {
   "cell_type": "code",
   "execution_count": 493,
   "id": "a1752fc3",
   "metadata": {},
   "outputs": [
    {
     "data": {
      "text/plain": [
       "108"
      ]
     },
     "execution_count": 493,
     "metadata": {},
     "output_type": "execute_result"
    }
   ],
   "source": [
    "properties.properties_v2_publish('aa0190a8-9312-4a17-8842-25a1dd483860','0c8a7441-7894-4d36-b4ec-7df63dfebd2a',{'value':20})\n",
    "fan = properties.properties_v2_show('aa0190a8-9312-4a17-8842-25a1dd483860','0c8a7441-7894-4d36-b4ec-7df63dfebd2a').last_value\n",
    "fan"
   ]
  },
  {
   "cell_type": "markdown",
   "id": "55f97258",
   "metadata": {},
   "source": [
    "Heating"
   ]
  },
  {
   "cell_type": "code",
   "execution_count": null,
   "id": "14e70b8f",
   "metadata": {},
   "outputs": [],
   "source": [
    "properties.properties_v2_publish('aa0190a8-9312-4a17-8842-25a1dd483860','a9f0e988-ad3d-4d77-b0aa-a82abfc70c58',{'value':0})\n",
    "heat = properties.properties_v2_show('aa0190a8-9312-4a17-8842-25a1dd483860','a9f0e988-ad3d-4d77-b0aa-a82abfc70c58').last_value\n",
    "heat"
   ]
  }
 ],
 "metadata": {
  "kernelspec": {
   "display_name": "Python 3 (ipykernel)",
   "language": "python",
   "name": "python3"
  },
  "language_info": {
   "codemirror_mode": {
    "name": "ipython",
    "version": 3
   },
   "file_extension": ".py",
   "mimetype": "text/x-python",
   "name": "python",
   "nbconvert_exporter": "python",
   "pygments_lexer": "ipython3",
   "version": "3.9.7"
  }
 },
 "nbformat": 4,
 "nbformat_minor": 5
}
